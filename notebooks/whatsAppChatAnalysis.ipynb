{
 "cells": [
  {
   "cell_type": "markdown",
   "id": "08160309-7a7b-4150-960a-0b2ce6d8bbeb",
   "metadata": {},
   "source": [
    "## Importing libaries :-"
   ]
  },
  {
   "cell_type": "code",
   "execution_count": 56,
   "id": "7f54b169-a159-4056-90d4-40e7c2242f4b",
   "metadata": {},
   "outputs": [],
   "source": [
    "import re \n",
    "import pandas as pd"
   ]
  },
  {
   "cell_type": "markdown",
   "id": "ee6095ee-b600-4d55-8c55-c750613e86bf",
   "metadata": {},
   "source": [
    "## Loading the datasets :-"
   ]
  },
  {
   "cell_type": "code",
   "execution_count": 57,
   "id": "17b736d4-34dc-4b9a-a4d8-e7d85772b7e6",
   "metadata": {},
   "outputs": [],
   "source": [
    "f = open('../demo/WhatsApp Chat with Doc.txt', 'r', encoding='utf-8')"
   ]
  },
  {
   "cell_type": "code",
   "execution_count": 58,
   "id": "a40fe980-a25b-4b1c-9b0c-bc6dffc20e2d",
   "metadata": {},
   "outputs": [],
   "source": [
    "data = f.read()"
   ]
  },
  {
   "cell_type": "code",
   "execution_count": 59,
   "id": "2473d279-5d4d-49f2-a479-eccb5f659aca",
   "metadata": {},
   "outputs": [],
   "source": [
    "# Regular expression codition :-\n",
    "\n",
    "pattern = r\"\\[\\d{1,2}/\\d{1,2}/\\d{2},\\s\\d{1,2}:\\d{2}:\\d{2}\\s?(?:AM|PM|am|pm)\\]\""
   ]
  },
  {
   "cell_type": "code",
   "execution_count": 60,
   "id": "9bb5ee65-75c8-461d-8a09-58a53a2ee6b8",
   "metadata": {},
   "outputs": [],
   "source": [
    "# Codition to extract only message (text) :-\n",
    "\n",
    "message = re.split(pattern, data)[1:]"
   ]
  },
  {
   "cell_type": "code",
   "execution_count": 61,
   "id": "cfee811f-1a96-491f-8e62-c0448be4ded4",
   "metadata": {},
   "outputs": [],
   "source": [
    "# Condition to extract only dates :-\n",
    "\n",
    "dates = re.findall(pattern, data)"
   ]
  },
  {
   "cell_type": "code",
   "execution_count": 62,
   "id": "5a024890-1e87-4f79-9a63-719cfb2801a8",
   "metadata": {},
   "outputs": [
    {
     "name": "stderr",
     "output_type": "stream",
     "text": [
      "/var/folders/s9/mwtf1kc900z3vxh_g1ygj6300000gn/T/ipykernel_1707/3437701128.py:10: UserWarning: Could not infer format, so each element will be parsed individually, falling back to `dateutil`. To ensure parsing is consistent and as-expected, please specify a format.\n",
      "  df['msg_dates'] = pd.to_datetime(df['msg_dates'], dayfirst=True, errors='coerce')\n"
     ]
    }
   ],
   "source": [
    "# Converting the data to DataFrame :-\n",
    "\n",
    "df = pd.DataFrame({'user_msg':message, 'msg_dates':dates})\n",
    "\n",
    "# Converting Msg_Dates type :-\n",
    "\n",
    "df['msg_dates'] = df['msg_dates'].str.replace(r\"[\\[\\]]\", \"\", regex=True)\n",
    "df['msg_dates'] = df['msg_dates'].str.replace('\\u202f', \" \", regex=True)\n",
    "df['msg_dates'] = df['msg_dates'].str.replace('\\xa0', \" \", regex=True)\n",
    "df['msg_dates'] = pd.to_datetime(df['msg_dates'], dayfirst=True, errors='coerce')\n",
    "df['date'] = df['msg_dates'].dt.strftime('%d-%m-%Y, %I:%M:%S %p')"
   ]
  },
  {
   "cell_type": "code",
   "execution_count": 63,
   "id": "6964bd43-e55a-4352-82a7-026decf2e229",
   "metadata": {},
   "outputs": [
    {
     "data": {
      "text/html": [
       "<div>\n",
       "<style scoped>\n",
       "    .dataframe tbody tr th:only-of-type {\n",
       "        vertical-align: middle;\n",
       "    }\n",
       "\n",
       "    .dataframe tbody tr th {\n",
       "        vertical-align: top;\n",
       "    }\n",
       "\n",
       "    .dataframe thead th {\n",
       "        text-align: right;\n",
       "    }\n",
       "</style>\n",
       "<table border=\"1\" class=\"dataframe\">\n",
       "  <thead>\n",
       "    <tr style=\"text-align: right;\">\n",
       "      <th></th>\n",
       "      <th>msg_dates</th>\n",
       "      <th>date</th>\n",
       "      <th>user</th>\n",
       "      <th>message</th>\n",
       "    </tr>\n",
       "  </thead>\n",
       "  <tbody>\n",
       "    <tr>\n",
       "      <th>0</th>\n",
       "      <td>2025-05-08 14:57:31</td>\n",
       "      <td>08-05-2025, 02:57:31 PM</td>\n",
       "      <td>~NirogMann Clinics</td>\n",
       "      <td>‎Messages and calls are end-to-end encrypted. ...</td>\n",
       "    </tr>\n",
       "    <tr>\n",
       "      <th>1</th>\n",
       "      <td>2025-05-08 14:57:31</td>\n",
       "      <td>08-05-2025, 02:57:31 PM</td>\n",
       "      <td>~NirogMann Clinics</td>\n",
       "      <td></td>\n",
       "    </tr>\n",
       "    <tr>\n",
       "      <th>2</th>\n",
       "      <td>2025-05-08 14:55:24</td>\n",
       "      <td>08-05-2025, 02:55:24 PM</td>\n",
       "      <td>~NirogMann Clinics</td>\n",
       "      <td>Hello,\\nThis is from NirogMann Clinics Dr Kapi...</td>\n",
       "    </tr>\n",
       "    <tr>\n",
       "      <th>3</th>\n",
       "      <td>2025-05-08 14:55:43</td>\n",
       "      <td>08-05-2025, 02:55:43 PM</td>\n",
       "      <td>~NirogMann Clinics</td>\n",
       "      <td></td>\n",
       "    </tr>\n",
       "    <tr>\n",
       "      <th>4</th>\n",
       "      <td>2025-05-08 14:55:43</td>\n",
       "      <td>08-05-2025, 02:55:43 PM</td>\n",
       "      <td>~NirogMann Clinics</td>\n",
       "      <td>Location\\nM-216, Vikas puri\\n Near M block Han...</td>\n",
       "    </tr>\n",
       "  </tbody>\n",
       "</table>\n",
       "</div>"
      ],
      "text/plain": [
       "            msg_dates                     date                 user  \\\n",
       "0 2025-05-08 14:57:31  08-05-2025, 02:57:31 PM   ~NirogMann Clinics   \n",
       "1 2025-05-08 14:57:31  08-05-2025, 02:57:31 PM   ~NirogMann Clinics   \n",
       "2 2025-05-08 14:55:24  08-05-2025, 02:55:24 PM   ~NirogMann Clinics   \n",
       "3 2025-05-08 14:55:43  08-05-2025, 02:55:43 PM   ~NirogMann Clinics   \n",
       "4 2025-05-08 14:55:43  08-05-2025, 02:55:43 PM   ~NirogMann Clinics   \n",
       "\n",
       "                                             message  \n",
       "0  ‎Messages and calls are end-to-end encrypted. ...  \n",
       "1                                                     \n",
       "2  Hello,\\nThis is from NirogMann Clinics Dr Kapi...  \n",
       "3                                                     \n",
       "4  Location\\nM-216, Vikas puri\\n Near M block Han...  "
      ]
     },
     "execution_count": 63,
     "metadata": {},
     "output_type": "execute_result"
    }
   ],
   "source": [
    "# Now, we have to separate User & Msg :-\n",
    "\n",
    "user = []\n",
    "messages = []\n",
    "\n",
    "for message in df['user_msg']:\n",
    "    entry = re.split(r'([\\w\\W]+?):\\s', message)\n",
    "    if entry[1:]:\n",
    "        user.append(entry[1])\n",
    "        messages.append(entry[2])\n",
    "    else:\n",
    "        user.append('group_notification')\n",
    "        messages.append(entry[0])\n",
    "\n",
    "df['user'] = user\n",
    "df['message'] = messages\n",
    "df.drop(columns=['user_msg'], inplace=True)\n",
    "\n",
    "df.head()"
   ]
  },
  {
   "cell_type": "code",
   "execution_count": 64,
   "id": "e9d4952f-63d0-40c3-9d99-cde0c4223705",
   "metadata": {},
   "outputs": [],
   "source": [
    "# Extracting columns from Msg_Date col :-\n",
    "\n",
    "df['month_num'] = df['msg_dates'].dt.month\n",
    "df['only_date'] = df['msg_dates'].dt.date\n",
    "df['day_name'] = df['msg_dates'].dt.day_name()\n",
    "df['year'] = df['msg_dates'].dt.year\n",
    "df['month'] = df['msg_dates'].dt.month_name()\n",
    "df['day'] = df['msg_dates'].dt.day\n",
    "df['hour'] = df['msg_dates'].dt.hour\n",
    "df['minute'] = df['msg_dates'].dt.minute"
   ]
  },
  {
   "cell_type": "code",
   "execution_count": 65,
   "id": "28690dad-9ef6-4fa1-bfeb-083b8342038d",
   "metadata": {},
   "outputs": [
    {
     "data": {
      "text/html": [
       "<div>\n",
       "<style scoped>\n",
       "    .dataframe tbody tr th:only-of-type {\n",
       "        vertical-align: middle;\n",
       "    }\n",
       "\n",
       "    .dataframe tbody tr th {\n",
       "        vertical-align: top;\n",
       "    }\n",
       "\n",
       "    .dataframe thead th {\n",
       "        text-align: right;\n",
       "    }\n",
       "</style>\n",
       "<table border=\"1\" class=\"dataframe\">\n",
       "  <thead>\n",
       "    <tr style=\"text-align: right;\">\n",
       "      <th></th>\n",
       "      <th>msg_dates</th>\n",
       "      <th>date</th>\n",
       "      <th>user</th>\n",
       "      <th>message</th>\n",
       "      <th>month_num</th>\n",
       "      <th>only_date</th>\n",
       "      <th>day_name</th>\n",
       "      <th>year</th>\n",
       "      <th>month</th>\n",
       "      <th>day</th>\n",
       "      <th>hour</th>\n",
       "      <th>minute</th>\n",
       "    </tr>\n",
       "  </thead>\n",
       "  <tbody>\n",
       "    <tr>\n",
       "      <th>0</th>\n",
       "      <td>2025-05-08 14:57:31</td>\n",
       "      <td>08-05-2025, 02:57:31 PM</td>\n",
       "      <td>~NirogMann Clinics</td>\n",
       "      <td>‎Messages and calls are end-to-end encrypted. ...</td>\n",
       "      <td>5</td>\n",
       "      <td>2025-05-08</td>\n",
       "      <td>Thursday</td>\n",
       "      <td>2025</td>\n",
       "      <td>May</td>\n",
       "      <td>8</td>\n",
       "      <td>14</td>\n",
       "      <td>57</td>\n",
       "    </tr>\n",
       "    <tr>\n",
       "      <th>1</th>\n",
       "      <td>2025-05-08 14:57:31</td>\n",
       "      <td>08-05-2025, 02:57:31 PM</td>\n",
       "      <td>~NirogMann Clinics</td>\n",
       "      <td></td>\n",
       "      <td>5</td>\n",
       "      <td>2025-05-08</td>\n",
       "      <td>Thursday</td>\n",
       "      <td>2025</td>\n",
       "      <td>May</td>\n",
       "      <td>8</td>\n",
       "      <td>14</td>\n",
       "      <td>57</td>\n",
       "    </tr>\n",
       "    <tr>\n",
       "      <th>2</th>\n",
       "      <td>2025-05-08 14:55:24</td>\n",
       "      <td>08-05-2025, 02:55:24 PM</td>\n",
       "      <td>~NirogMann Clinics</td>\n",
       "      <td>Hello,\\nThis is from NirogMann Clinics Dr Kapi...</td>\n",
       "      <td>5</td>\n",
       "      <td>2025-05-08</td>\n",
       "      <td>Thursday</td>\n",
       "      <td>2025</td>\n",
       "      <td>May</td>\n",
       "      <td>8</td>\n",
       "      <td>14</td>\n",
       "      <td>55</td>\n",
       "    </tr>\n",
       "    <tr>\n",
       "      <th>3</th>\n",
       "      <td>2025-05-08 14:55:43</td>\n",
       "      <td>08-05-2025, 02:55:43 PM</td>\n",
       "      <td>~NirogMann Clinics</td>\n",
       "      <td></td>\n",
       "      <td>5</td>\n",
       "      <td>2025-05-08</td>\n",
       "      <td>Thursday</td>\n",
       "      <td>2025</td>\n",
       "      <td>May</td>\n",
       "      <td>8</td>\n",
       "      <td>14</td>\n",
       "      <td>55</td>\n",
       "    </tr>\n",
       "    <tr>\n",
       "      <th>4</th>\n",
       "      <td>2025-05-08 14:55:43</td>\n",
       "      <td>08-05-2025, 02:55:43 PM</td>\n",
       "      <td>~NirogMann Clinics</td>\n",
       "      <td>Location\\nM-216, Vikas puri\\n Near M block Han...</td>\n",
       "      <td>5</td>\n",
       "      <td>2025-05-08</td>\n",
       "      <td>Thursday</td>\n",
       "      <td>2025</td>\n",
       "      <td>May</td>\n",
       "      <td>8</td>\n",
       "      <td>14</td>\n",
       "      <td>55</td>\n",
       "    </tr>\n",
       "  </tbody>\n",
       "</table>\n",
       "</div>"
      ],
      "text/plain": [
       "            msg_dates                     date                 user  \\\n",
       "0 2025-05-08 14:57:31  08-05-2025, 02:57:31 PM   ~NirogMann Clinics   \n",
       "1 2025-05-08 14:57:31  08-05-2025, 02:57:31 PM   ~NirogMann Clinics   \n",
       "2 2025-05-08 14:55:24  08-05-2025, 02:55:24 PM   ~NirogMann Clinics   \n",
       "3 2025-05-08 14:55:43  08-05-2025, 02:55:43 PM   ~NirogMann Clinics   \n",
       "4 2025-05-08 14:55:43  08-05-2025, 02:55:43 PM   ~NirogMann Clinics   \n",
       "\n",
       "                                             message  month_num   only_date  \\\n",
       "0  ‎Messages and calls are end-to-end encrypted. ...          5  2025-05-08   \n",
       "1                                                             5  2025-05-08   \n",
       "2  Hello,\\nThis is from NirogMann Clinics Dr Kapi...          5  2025-05-08   \n",
       "3                                                             5  2025-05-08   \n",
       "4  Location\\nM-216, Vikas puri\\n Near M block Han...          5  2025-05-08   \n",
       "\n",
       "   day_name  year month  day  hour  minute  \n",
       "0  Thursday  2025   May    8    14      57  \n",
       "1  Thursday  2025   May    8    14      57  \n",
       "2  Thursday  2025   May    8    14      55  \n",
       "3  Thursday  2025   May    8    14      55  \n",
       "4  Thursday  2025   May    8    14      55  "
      ]
     },
     "execution_count": 65,
     "metadata": {},
     "output_type": "execute_result"
    }
   ],
   "source": [
    "df.head()"
   ]
  },
  {
   "cell_type": "code",
   "execution_count": 66,
   "id": "747ae2de-34ee-4017-acac-ce79598c59ce",
   "metadata": {},
   "outputs": [
    {
     "data": {
      "text/plain": [
       "(386, 12)"
      ]
     },
     "execution_count": 66,
     "metadata": {},
     "output_type": "execute_result"
    }
   ],
   "source": [
    "df.shape"
   ]
  },
  {
   "cell_type": "code",
   "execution_count": null,
   "id": "e996be8a-58b4-4133-8228-52bbea7fe5b2",
   "metadata": {},
   "outputs": [],
   "source": []
  }
 ],
 "metadata": {
  "kernelspec": {
   "display_name": "Python 3 (ipykernel)",
   "language": "python",
   "name": "python3"
  },
  "language_info": {
   "codemirror_mode": {
    "name": "ipython",
    "version": 3
   },
   "file_extension": ".py",
   "mimetype": "text/x-python",
   "name": "python",
   "nbconvert_exporter": "python",
   "pygments_lexer": "ipython3",
   "version": "3.13.5"
  }
 },
 "nbformat": 4,
 "nbformat_minor": 5
}
